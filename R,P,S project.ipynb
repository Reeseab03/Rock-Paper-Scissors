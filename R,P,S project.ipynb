{
 "cells": [
  {
   "cell_type": "code",
   "execution_count": 2,
   "id": "5f23ed80",
   "metadata": {},
   "outputs": [
    {
     "name": "stdout",
     "output_type": "stream",
     "text": [
      "Enter your choice (rock/paper/scissors): paper\n",
      "\n",
      "You chose paper, and the computer chose paper.\n",
      "\n",
      "It's a tie!\n",
      "Play again? (y/n): y\n",
      "Enter your choice (rock/paper/scissors): scissors\n",
      "\n",
      "You chose scissors, and the computer chose paper.\n",
      "\n",
      "You win!\n",
      "Play again? (y/n): n\n"
     ]
    }
   ],
   "source": [
    "import random\n",
    "\n",
    "def play_game():\n",
    "    user_choice = input(\"Enter your choice (rock/paper/scissors): \")\n",
    "    computer_choice = random.choice(['rock', 'paper', 'scissors'])\n",
    "    print(f\"\\nYou chose {user_choice}, and the computer chose {computer_choice}.\\n\")\n",
    "    if user_choice == computer_choice:\n",
    "        print(\"It's a tie!\")\n",
    "    elif user_choice == 'rock':\n",
    "        if computer_choice == 'paper':\n",
    "            print(\"You lose!\")\n",
    "        else:\n",
    "            print(\"You win!\")\n",
    "    elif user_choice == 'paper':\n",
    "        if computer_choice == 'scissors':\n",
    "            print(\"You lose!\")\n",
    "        else:\n",
    "            print(\"You win!\")\n",
    "    elif user_choice == 'scissors':\n",
    "        if computer_choice == 'rock':\n",
    "            print(\"You lose!\")\n",
    "        else:\n",
    "            print(\"You win!\")\n",
    "    else:\n",
    "        print(\"Invalid input. You lose!\")\n",
    "        \n",
    "while True:\n",
    "    play_game()\n",
    "    play_again = input(\"Play again? (y/n): \")\n",
    "    if play_again.lower() != 'y':\n",
    "        break\n",
    "\n"
   ]
  },
  {
   "cell_type": "code",
   "execution_count": null,
   "id": "878ae4f2",
   "metadata": {},
   "outputs": [],
   "source": []
  }
 ],
 "metadata": {
  "kernelspec": {
   "display_name": "Python 3 (ipykernel)",
   "language": "python",
   "name": "python3"
  },
  "language_info": {
   "codemirror_mode": {
    "name": "ipython",
    "version": 3
   },
   "file_extension": ".py",
   "mimetype": "text/x-python",
   "name": "python",
   "nbconvert_exporter": "python",
   "pygments_lexer": "ipython3",
   "version": "3.9.13"
  }
 },
 "nbformat": 4,
 "nbformat_minor": 5
}
